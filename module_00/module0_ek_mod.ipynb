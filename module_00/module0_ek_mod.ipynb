{
 "cells": [
  {
   "cell_type": "code",
   "execution_count": 6,
   "metadata": {},
   "outputs": [
    {
     "name": "stdout",
     "output_type": "stream",
     "text": [
      "Загадано число от 1 до 100\n",
      "Ваш алгоритм угадывает число в среднем за 5 попыток\n"
     ]
    },
    {
     "data": {
      "text/plain": [
       "5"
      ]
     },
     "execution_count": 6,
     "metadata": {},
     "output_type": "execute_result"
    }
   ],
   "source": [
    "import numpy as np\n",
    "\n",
    "# A guess number will be defined\n",
    "number = np.random.randint(1,101)\n",
    "print (\"Загадано число от 1 до 100\")\n",
    "\n",
    "\n",
    "# Set up a function that initially will choose any random value and then will\n",
    "# increase or decrease this random value by a value depending on the difference\n",
    "# between number and predict value. The function takes the guess value and \n",
    "# returns the number of attempts.\n",
    "def game_core_v2(number):\n",
    "    count=0\n",
    "    predict = np.random.randint(1,101)\n",
    "    while number != predict:\n",
    "        count+=1\n",
    "        # Define the difference between the guess number and randomly chosen value\n",
    "        difference = number - predict\n",
    "        # Choose a value to be added or subtracted from randomly chosen value\n",
    "        if difference>=0:\n",
    "            if difference>=40:\n",
    "                predict += 40\n",
    "            elif difference>=30:\n",
    "                predict += 30\n",
    "            elif difference>=20:\n",
    "                predict += 20\n",
    "            elif difference>=10:\n",
    "                predict += 10\n",
    "            elif difference>=5:\n",
    "                predict += 5\n",
    "            elif difference>=1:\n",
    "                predict += 1    \n",
    "        elif difference<0:\n",
    "            if difference<=-40:\n",
    "                predict -= 40\n",
    "            elif difference<=-30:\n",
    "                predict -= 30\n",
    "            elif difference<=-20:\n",
    "                predict -= 20\n",
    "            elif difference<=-10:\n",
    "                predict -= 10\n",
    "            elif difference<=-5:\n",
    "                predict -= 5\n",
    "            elif difference<=-1:\n",
    "                predict -= 1\n",
    "    print('Ваш алгоритм угадывает число в среднем за {} попыток'.format(count))    \n",
    "    # loop exit if the number was guessed correctly\n",
    "    return(count)\n",
    "\n",
    "\n",
    "# Test programme\n",
    "game_core_v2(number) "
   ]
  }
 ],
 "metadata": {
  "kernelspec": {
   "display_name": "Python 3",
   "language": "python",
   "name": "python3"
  },
  "language_info": {
   "codemirror_mode": {
    "name": "ipython",
    "version": 3
   },
   "file_extension": ".py",
   "mimetype": "text/x-python",
   "name": "python",
   "nbconvert_exporter": "python",
   "pygments_lexer": "ipython3",
   "version": "3.8.3"
  }
 },
 "nbformat": 4,
 "nbformat_minor": 4
}
